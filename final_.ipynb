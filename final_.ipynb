{
  "cells": [
    {
      "cell_type": "code",
      "execution_count": 4,
      "metadata": {
        "colab": {
          "base_uri": "https://localhost:8080/"
        },
        "id": "IdCHXoKsry9y",
        "outputId": "24362ad1-5591-48ed-a0e3-e9f63f999a05"
      },
      "outputs": [
        {
          "name": "stdout",
          "output_type": "stream",
          "text": [
            "<class 'pandas.core.frame.DataFrame'>\n",
            "RangeIndex: 53043 entries, 0 to 53042\n",
            "Data columns (total 3 columns):\n",
            " #   Column      Non-Null Count  Dtype \n",
            "---  ------      --------------  ----- \n",
            " 0   Unnamed: 0  53043 non-null  int64 \n",
            " 1   statement   52681 non-null  object\n",
            " 2   status      53043 non-null  object\n",
            "dtypes: int64(1), object(2)\n",
            "memory usage: 1.2+ MB\n",
            "<class 'pandas.core.frame.DataFrame'>\n",
            "Index: 52681 entries, 0 to 53042\n",
            "Data columns (total 2 columns):\n",
            " #   Column     Non-Null Count  Dtype \n",
            "---  ------     --------------  ----- \n",
            " 0   statement  52681 non-null  object\n",
            " 1   status     52681 non-null  object\n",
            "dtypes: object(2)\n",
            "memory usage: 1.2+ MB\n"
          ]
        },
        {
          "data": {
            "text/plain": [
              "('mental_health_model.pkl', 'tfidf_vectorizer.pkl')"
            ]
          },
          "execution_count": 4,
          "metadata": {},
          "output_type": "execute_result"
        }
      ],
      "source": [
        "import pandas as pd\n",
        "# Load the new dataset\n",
        "\n",
        "\n",
        "#file_path_new = \"C:\\Users\\Admin\\Desktop\\project1\\Combined Data.csv\"\n",
        "\n",
        "# Read the first few rows to inspect the structure\n",
        "df_new = pd.read_csv(\"Combined Data.csv\",encoding='latin-1')\n",
        "\n",
        "# Display basic information and first few rows\n",
        "df_new.info(), df_new.head()\n",
        "# Drop the index column and remove rows with missing statements\n",
        "df_new_cleaned = df_new.drop(columns=[\"Unnamed: 0\"]).dropna()\n",
        "\n",
        "# Display dataset info after cleaning\n",
        "df_new_cleaned.info(), df_new_cleaned.head()\n",
        "from sklearn.model_selection import train_test_split\n",
        "from sklearn.feature_extraction.text import TfidfVectorizer\n",
        "from sklearn.naive_bayes import MultinomialNB\n",
        "from sklearn.metrics import accuracy_score, classification_report\n",
        "\n",
        "# Split the data into training and testing sets\n",
        "X_train, X_test, y_train, y_test = train_test_split(df_new_cleaned[\"statement\"], df_new_cleaned[\"status\"], test_size=0.2, random_state=42)\n",
        "\n",
        "# Convert text data to TF-IDF features\n",
        "vectorizer = TfidfVectorizer(stop_words=\"english\", max_features=5000)\n",
        "X_train_tfidf = vectorizer.fit_transform(X_train)\n",
        "X_test_tfidf = vectorizer.transform(X_test)\n",
        "\n",
        "# Train a Naive Bayes classifier\n",
        "model = MultinomialNB()\n",
        "model.fit(X_train_tfidf, y_train)\n",
        "\n",
        "# Predict on test data\n",
        "y_pred = model.predict(X_test_tfidf)\n",
        "\n",
        "# Evaluate model performance\n",
        "accuracy = accuracy_score(y_test, y_pred)\n",
        "classification_rep = classification_report(y_test, y_pred)\n",
        "\n",
        "accuracy, classification_rep\n",
        "import joblib\n",
        "\n",
        "# Save the trained model and vectorizer\n",
        "model_path = \"mental_health_model.pkl\"\n",
        "vectorizer_path = \"tfidf_vectorizer.pkl\"\n",
        "\n",
        "joblib.dump(model, model_path)\n",
        "joblib.dump(vectorizer, vectorizer_path)\n",
        "\n",
        "model_path, vectorizer_path\n",
        "\n"
      ]
    }
  ],
  "metadata": {
    "colab": {
      "provenance": []
    },
    "kernelspec": {
      "display_name": "Python 3",
      "name": "python3"
    },
    "language_info": {
      "codemirror_mode": {
        "name": "ipython",
        "version": 3
      },
      "file_extension": ".py",
      "mimetype": "text/x-python",
      "name": "python",
      "nbconvert_exporter": "python",
      "pygments_lexer": "ipython3",
      "version": "3.12.3"
    }
  },
  "nbformat": 4,
  "nbformat_minor": 0
}
